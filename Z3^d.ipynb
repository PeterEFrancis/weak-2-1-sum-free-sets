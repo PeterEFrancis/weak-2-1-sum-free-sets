{
 "cells": [
  {
   "cell_type": "code",
   "execution_count": 2,
   "metadata": {},
   "outputs": [],
   "source": [
    "from addcomb import *"
   ]
  },
  {
   "cell_type": "code",
   "execution_count": 5,
   "metadata": {},
   "outputs": [
    {
     "name": "stdout",
     "output_type": "stream",
     "text": [
      "verbose: For m=1, found [(1, 0, 0)], which is sum-free\n",
      "verbose: (kA = [(2, 0, 0)], lA = [(1, 0, 0)])\n",
      "verbose: For m=2, found [(1, 0, 0), (0, 1, 0)], which is sum-free\n",
      "verbose: (kA = [(1, 1, 0), (2, 0, 0), (0, 2, 0)], lA = [(1, 0, 0), (0, 1, 0)])\n",
      "verbose: For m=3, found [(1, 0, 0), (0, 1, 0), (2, 2, 0)], which is sum-free\n",
      "verbose: (kA = [(2, 0, 0), (0, 2, 0), (1, 1, 0)], lA = [(1, 0, 0), (0, 1, 0), (2, 2, 0)])\n",
      "verbose: For m=4, found [(1, 0, 0), (0, 1, 0), (2, 2, 0), (0, 0, 1)], which is sum-free\n",
      "verbose: (kA = [(2, 2, 1), (0, 0, 2), (1, 0, 1), (1, 1, 0), (2, 0, 0), (0, 2, 0), (0, 1, 1)], lA = [(2, 2, 0), (0, 1, 0), (1, 0, 0), (0, 0, 1)])\n",
      "verbose: For m=5, found [(1, 0, 0), (0, 1, 0), (2, 2, 0), (0, 0, 1), (2, 1, 1)], which is sum-free\n",
      "verbose: (kA = [(2, 2, 1), (0, 2, 0), (1, 2, 2), (2, 0, 0), (0, 0, 2), (1, 0, 1), (0, 1, 1), (2, 1, 2), (1, 1, 0)], lA = [(0, 0, 1), (2, 1, 1), (0, 1, 0), (1, 0, 0), (2, 2, 0)])\n",
      "verbose: For m=6, found [(1, 0, 0), (0, 1, 0), (2, 2, 0), (0, 0, 1), (2, 1, 1), (1, 2, 1)], which is sum-free\n",
      "verbose: (kA = [(1, 2, 2), (0, 1, 1), (2, 2, 1), (0, 0, 2), (2, 0, 0), (0, 2, 0), (2, 1, 2), (1, 0, 1), (1, 1, 0)], lA = [(1, 0, 0), (0, 1, 0), (0, 0, 1), (2, 2, 0), (2, 1, 1), (1, 2, 1)])\n",
      "verbose: For m=7, found [(1, 0, 0), (0, 1, 0), (2, 2, 0), (0, 0, 1), (2, 1, 1), (1, 2, 1), (2, 0, 2)], which is sum-free\n",
      "verbose: (kA = [(1, 0, 1), (0, 2, 0), (1, 1, 0), (2, 2, 1), (0, 1, 1), (2, 0, 0), (1, 2, 2), (2, 1, 2), (0, 0, 2)], lA = [(2, 0, 2), (2, 1, 1), (1, 0, 0), (0, 0, 1), (0, 1, 0), (1, 2, 1), (2, 2, 0)])\n",
      "verbose: For m=8, found [(1, 0, 0), (0, 1, 0), (2, 2, 0), (0, 0, 1), (2, 1, 1), (1, 2, 1), (2, 0, 2), (1, 1, 2)], which is sum-free\n",
      "verbose: (kA = [(1, 1, 0), (2, 1, 2), (0, 2, 0), (1, 2, 2), (1, 0, 1), (2, 0, 0), (0, 0, 2), (0, 1, 1), (2, 2, 1)], lA = [(1, 2, 1), (2, 0, 2), (0, 0, 1), (0, 1, 0), (2, 1, 1), (1, 0, 0), (1, 1, 2), (2, 2, 0)])\n",
      "verbose: For m=9, found [(1, 0, 0), (0, 1, 0), (2, 2, 0), (0, 0, 1), (2, 1, 1), (1, 2, 1), (2, 0, 2), (1, 1, 2), (0, 2, 2)], which is sum-free\n",
      "verbose: (kA = [(2, 0, 0), (1, 1, 0), (1, 2, 2), (0, 1, 1), (2, 2, 1), (2, 1, 2), (1, 0, 1), (0, 0, 2), (0, 2, 0)], lA = [(0, 1, 0), (2, 1, 1), (0, 0, 1), (1, 1, 2), (2, 2, 0), (1, 2, 1), (0, 2, 2), (1, 0, 0), (2, 0, 2)])\n"
     ]
    },
    {
     "data": {
      "text/plain": [
       "9"
      ]
     },
     "execution_count": 5,
     "metadata": {},
     "output_type": "execute_result"
    }
   ],
   "source": [
    "mu((3,3,3),2,1, verbose=True)"
   ]
  },
  {
   "cell_type": "markdown",
   "metadata": {},
   "source": [
    "___"
   ]
  },
  {
   "cell_type": "code",
   "execution_count": 4,
   "metadata": {},
   "outputs": [
    {
     "name": "stdout",
     "output_type": "stream",
     "text": [
      "verbose: For m=1, found [(0, 0)], which is sum-free\n",
      "verbose: (kA = [], lA = [(0, 0)])\n",
      "verbose: For m=2, found [(1, 0), (2, 0)], which is sum-free\n",
      "verbose: (kA = [(0, 0)], lA = [(2, 0), (1, 0)])\n",
      "verbose: For m=3, found [(1, 0), (2, 0), (0, 1)], which is sum-free\n",
      "verbose: (kA = [(2, 1), (0, 0), (1, 1)], lA = [(1, 0), (0, 1), (2, 0)])\n",
      "verbose: For m=4, found [(1, 0), (2, 0), (0, 1), (0, 2)], which is sum-free\n",
      "verbose: (kA = [(2, 1), (1, 2), (0, 0), (2, 2), (1, 1)], lA = [(2, 0), (0, 1), (0, 2), (1, 0)])\n"
     ]
    },
    {
     "data": {
      "text/plain": [
       "4"
      ]
     },
     "execution_count": 4,
     "metadata": {},
     "output_type": "execute_result"
    }
   ],
   "source": [
    "mu_restricted((3,3),2,1,verbose=True)"
   ]
  },
  {
   "cell_type": "code",
   "execution_count": null,
   "metadata": {},
   "outputs": [],
   "source": []
  }
 ],
 "metadata": {
  "kernelspec": {
   "display_name": "Python 3",
   "language": "python",
   "name": "python3"
  },
  "language_info": {
   "codemirror_mode": {
    "name": "ipython",
    "version": 3
   },
   "file_extension": ".py",
   "mimetype": "text/x-python",
   "name": "python",
   "nbconvert_exporter": "python",
   "pygments_lexer": "ipython3",
   "version": "3.7.4"
  }
 },
 "nbformat": 4,
 "nbformat_minor": 4
}
