{
 "cells": [
  {
   "cell_type": "markdown",
   "metadata": {},
   "source": [
    "# Test Proposition 11\n",
    "\n",
    "> For any positive integers $q\\equiv 3\\bmod 6$, and $w\\equiv 1\\bmod 2$,\n",
    ">    $$\\mu\\hat{\\;}(\\mathbb{Z}_q\\times\\mathbb{Z}_{qw},\\{2,1\\})\\geq 1 + q\\left(\\frac{qw}{3}\\right).$$\n"
   ]
  },
  {
   "cell_type": "code",
   "execution_count": 77,
   "metadata": {},
   "outputs": [],
   "source": [
    "from localFuncs import *"
   ]
  },
  {
   "cell_type": "code",
   "execution_count": null,
   "metadata": {},
   "outputs": [
    {
     "name": "stdout",
     "output_type": "stream",
     "text": [
      "verbose: For m=1, found [(0, 0)], which is sum-free\n",
      "verbose: (kA = [], lA = [(0, 0)])\n",
      "verbose: For m=2, found [(1, 0), (2, 0)], which is sum-free\n",
      "verbose: (kA = [(3, 0)], lA = [(1, 0), (2, 0)])\n",
      "verbose: For m=3, found [(1, 0), (2, 0), (4, 0)], which is sum-free\n",
      "verbose: (kA = [(0, 0), (3, 0), (5, 0)], lA = [(1, 0), (2, 0), (4, 0)])\n",
      "verbose: For m=4, found [(1, 0), (2, 0), (4, 0), (0, 1)], which is sum-free\n",
      "verbose: (kA = [(0, 0), (4, 1), (1, 1), (3, 0), (2, 1), (5, 0)], lA = [(1, 0), (4, 0), (0, 1), (2, 0)])\n",
      "verbose: For m=5, found [(1, 0), (2, 0), (4, 0), (0, 1), (3, 1)], which is sum-free\n",
      "verbose: (kA = [(2, 1), (3, 2), (3, 0), (5, 0), (5, 1), (1, 1), (4, 1), (0, 0)], lA = [(2, 0), (3, 1), (0, 1), (4, 0), (1, 0)])\n",
      "verbose: For m=6, found [(1, 0), (2, 0), (4, 0), (0, 1), (3, 1), (0, 2)], which is sum-free\n",
      "verbose: (kA = [(2, 1), (1, 1), (0, 0), (5, 1), (5, 0), (4, 2), (3, 2), (0, 3), (1, 2), (4, 1), (3, 0), (2, 2), (3, 3)], lA = [(2, 0), (3, 1), (0, 2), (1, 0), (0, 1), (4, 0)])\n",
      "verbose: For m=7, found [(1, 0), (2, 0), (4, 0), (0, 1), (3, 1), (0, 2), (1, 3)], which is sum-free\n",
      "verbose: (kA = [(3, 0), (5, 3), (2, 1), (2, 3), (0, 0), (0, 3), (3, 2), (1, 2), (5, 1), (1, 1), (1, 4), (1, 5), (5, 0), (4, 2), (4, 4), (4, 1), (2, 2), (3, 3)], lA = [(1, 0), (4, 0), (2, 0), (0, 1), (3, 1), (0, 2), (1, 3)])\n",
      "verbose: For m=8, found [(1, 0), (2, 0), (4, 0), (0, 1), (3, 1), (0, 2), (1, 3), (4, 3)], which is sum-free\n",
      "verbose: (kA = [(1, 1), (5, 3), (5, 0), (1, 2), (2, 3), (1, 4), (3, 0), (4, 1), (2, 1), (0, 3), (5, 1), (0, 0), (2, 2), (1, 5), (3, 3), (4, 2), (3, 2), (4, 4), (4, 5)], lA = [(3, 1), (1, 0), (4, 3), (1, 3), (4, 0), (2, 0), (0, 2), (0, 1)])\n"
     ]
    }
   ],
   "source": [
    "mu_restricted((6,6),2,1,verbose=True)"
   ]
  },
  {
   "cell_type": "code",
   "execution_count": 10,
   "metadata": {},
   "outputs": [
    {
     "data": {
      "text/plain": [
       "17795366107267.367"
      ]
     },
     "execution_count": 10,
     "metadata": {},
     "output_type": "execute_result"
    }
   ],
   "source": [
    "import math\n",
    "\n",
    "def nCr(n,r):\n",
    "    f = math.factorial\n",
    "    return f(n) / f(r) / f(n-r)\n",
    "\n",
    "nCr(81,27)*0.01/(60*60*360)"
   ]
  },
  {
   "cell_type": "markdown",
   "metadata": {},
   "source": [
    "#### Idea 1 (three overlap thrice)"
   ]
  },
  {
   "cell_type": "code",
   "execution_count": 3,
   "metadata": {},
   "outputs": [
    {
     "name": "stdout",
     "output_type": "stream",
     "text": [
      "Z = [-3, -1, 1, 3]\n",
      "E = [0, 2, 4]\n",
      "F = [-4, -2, 0]\n",
      "\n",
      "\n",
      "{(7, 3), (0, 7), (1, 6), (3, 7), (2, 5), (8, 5), (5, 8), (4, 0), (6, 7), (5, 5), (7, 6), (0, 4), (1, 1), (3, 2), (2, 6), (8, 2), (4, 5), (6, 0), (7, 5), (3, 1), (7, 8), (2, 1), (5, 1), (7, 2), (1, 5), (3, 6), (2, 2), (8, 6), (4, 1), (6, 4), (5, 4), (7, 1), (0, 5), (1, 0), (3, 5), (2, 7), (8, 3), (4, 6), (6, 1), (5, 7), (7, 4), (0, 2), (1, 3), (4, 8), (3, 0), (2, 8), (8, 0), (6, 2), (5, 0), (1, 4), (2, 3), (8, 7), (4, 2), (6, 5), (5, 3), (7, 0), (6, 8), (1, 7), (3, 4), (2, 4), (8, 4), (4, 7), (6, 6), (5, 6), (7, 7), (1, 2), (3, 3), (8, 1), (4, 4), (6, 3), (0, 0), (3, 8), (2, 0), (1, 8), (8, 8), (4, 3), (5, 2)}\n",
      " \n",
      "{(1, 2), (3, 2), (5, 4), (7, 0), (3, 0), (8, 0), (5, 2), (6, 0), (1, 4), (7, 4), (2, 0), (5, 0), (1, 0), (3, 4), (7, 2), (4, 0)}\n"
     ]
    },
    {
     "data": {
      "text/plain": [
       "False"
      ]
     },
     "execution_count": 3,
     "metadata": {},
     "output_type": "execute_result"
    }
   ],
   "source": [
    "q = 9\n",
    "w = 1\n",
    "\n",
    "x = q*w//3\n",
    "\n",
    "Z = range(-x, x + 2, 2)\n",
    "E = range(0, 2*x, 2)\n",
    "F = range(-2*x+2, 2, 2)\n",
    "\n",
    "print(f\"Z = {list(Z)}\")\n",
    "print(f\"E = {list(E)}\")\n",
    "print(f\"F = {list(F)}\\n\\n\")\n",
    "\n",
    "\n",
    "A = [(0,z) for z in Z]\n",
    "for i in range(1, q):\n",
    "    A += [(i,ef) for ef in (E if i % 2 else F)]\n",
    "\n",
    "isWeak21SumFree(A, (q, q*w), verbose = True)"
   ]
  },
  {
   "cell_type": "markdown",
   "metadata": {},
   "source": [
    "# Idea 2"
   ]
  },
  {
   "cell_type": "code",
   "execution_count": 8,
   "metadata": {},
   "outputs": [
    {
     "name": "stdout",
     "output_type": "stream",
     "text": [
      "Z = [1, 3, 5, 7]\n",
      "E = [0, 2, 4]\n",
      "F = [1, 3, 5]\n",
      "\n",
      "\n",
      "[(0, 1), (0, 3), (0, 5), (0, 7), (1, 0), (1, 2), (1, 4), (2, 1), (2, 3), (2, 5), (3, 0), (3, 2), (3, 4), (4, 1), (4, 3), (4, 5), (5, 0), (5, 2), (5, 4), (6, 1), (6, 3), (6, 5), (7, 0), (7, 2), (7, 4), (8, 1), (8, 3), (8, 5)]\n",
      "\n",
      "\n",
      "{(7, 3), (0, 7), (1, 6), (3, 7), (2, 5), (5, 8), (4, 0), (6, 7), (5, 5), (7, 6), (0, 4), (1, 1), (3, 2), (2, 6), (8, 2), (4, 5), (6, 0), (7, 5), (0, 1), (3, 1), (7, 8), (2, 1), (5, 1), (7, 2), (1, 5), (3, 6), (2, 2), (8, 6), (4, 1), (6, 4), (5, 4), (7, 1), (0, 5), (1, 0), (0, 8), (3, 5), (2, 7), (8, 3), (4, 6), (6, 1), (5, 7), (7, 4), (1, 3), (4, 8), (3, 0), (2, 8), (8, 0), (6, 2), (5, 0), (1, 4), (2, 3), (4, 2), (6, 5), (5, 3), (7, 0), (6, 8), (0, 6), (1, 7), (3, 4), (2, 4), (8, 4), (4, 7), (6, 6), (5, 6), (7, 7), (0, 3), (1, 2), (3, 3), (8, 1), (4, 4), (6, 3), (0, 0), (3, 8), (2, 0), (1, 8), (8, 8), (4, 3), (5, 2)}\n",
      " \n",
      "{(3, 0), (0, 7), (2, 1), (2, 5), (0, 3), (7, 2), (1, 2), (8, 1), (6, 3), (5, 0), (3, 4), (4, 1), (3, 2), (5, 4), (4, 5), (1, 4), (0, 5), (2, 3), (1, 0), (6, 5), (0, 1), (8, 3), (7, 0), (6, 1), (7, 4), (4, 3), (5, 2)}\n"
     ]
    },
    {
     "data": {
      "text/plain": [
       "False"
      ]
     },
     "execution_count": 8,
     "metadata": {},
     "output_type": "execute_result"
    }
   ],
   "source": [
    "q = 9\n",
    "w = 1\n",
    "\n",
    "x = q*w//3\n",
    "\n",
    "Z = range(1, 2*x+3, 2)\n",
    "E = range(0, 2*x, 2)\n",
    "F = range(1, 2*x+1, 2)\n",
    "\n",
    "print(f\"Z = {list(Z)}\")\n",
    "print(f\"E = {list(E)}\")\n",
    "print(f\"F = {list(F)}\\n\\n\")\n",
    "\n",
    "\n",
    "\n",
    "A = [(0,z) for z in Z]\n",
    "for i in range(1, q):\n",
    "    A += [(i,ef) for ef in (E if i % 2 else F)]\n",
    "\n",
    "print(A)\n",
    "print(\"\\n\")\n",
    "    \n",
    "isWeak21SumFree(A, (q, q*w), verbose = True)"
   ]
  },
  {
   "cell_type": "code",
   "execution_count": null,
   "metadata": {},
   "outputs": [],
   "source": []
  },
  {
   "cell_type": "code",
   "execution_count": null,
   "metadata": {},
   "outputs": [],
   "source": []
  },
  {
   "cell_type": "code",
   "execution_count": null,
   "metadata": {},
   "outputs": [],
   "source": []
  },
  {
   "cell_type": "markdown",
   "metadata": {},
   "source": [
    "# Idea 3"
   ]
  },
  {
   "cell_type": "code",
   "execution_count": 3,
   "metadata": {},
   "outputs": [],
   "source": [
    "import re"
   ]
  },
  {
   "cell_type": "code",
   "execution_count": 104,
   "metadata": {},
   "outputs": [],
   "source": [
    "with open(\"data/Z_6xZ_12_filtered.txt\", \"r\") as f:\n",
    "    for line in f.readlines():\n",
    "            \n",
    "        start_1 = eval(line)[0]\n",
    "        start_2 = eval(line)[1]\n",
    "        start_3 = eval(line)[2]\n",
    "\n",
    "        smart_diff_1 = 4 - start_1\n",
    "        smart_diff_2 = 4 - start_2\n",
    "        smart_diff_3 = 4 - start_3\n",
    "\n",
    "        q = 9\n",
    "        w = 1\n",
    "\n",
    "        x = q*w//3\n",
    "\n",
    "        Z = range(x - smart_diff_1, x - smart_diff_1 + 2*x+2, 2)\n",
    "        E = range(x - smart_diff_2, x - smart_diff_1 + 2*x, 2)\n",
    "        F = range(x - smart_diff_3, x - smart_diff_1 + 2*x, 2)\n",
    "        \n",
    "        A = [(0,z) for z in Z]\n",
    "        for i in range(1, q):\n",
    "            A += [(i,ef) for ef in (E if i % 2 else F)]\n",
    "        A = list(set((tup[0] % q, tup[1]% (q*w)) for tup in A))\n",
    "\n",
    "        \n",
    "        if len(A) == 1 + q*w*q/3 and isWeak21SumFree(A, (q, q*w)):\n",
    "            print(smart_diff_1)\n",
    "            print(smart_diff_2)\n",
    "            print(smart_diff_3)\n",
    "            print(line)\n",
    "            print(A)\n"
   ]
  },
  {
   "cell_type": "code",
   "execution_count": 100,
   "metadata": {},
   "outputs": [
    {
     "name": "stdout",
     "output_type": "stream",
     "text": [
      "20\n",
      "{0} x {[3, 8, 1, 6]}\n",
      "{1} x {[1, 8]}\n",
      "{2} x {[8, 1]}\n",
      "{3} x {[1, 8]}\n",
      "{4} x {[8, 1]}\n",
      "{5} x {[1, 8]}\n",
      "{6} x {[8, 1]}\n",
      "{7} x {[1, 8]}\n",
      "{8} x {[1, 8]}\n"
     ]
    },
    {
     "data": {
      "text/plain": [
       "True"
      ]
     },
     "execution_count": 100,
     "metadata": {},
     "output_type": "execute_result"
    }
   ],
   "source": [
    "A = [(0, 6), (0, 8), (0, 1), (0, 3), (1, 8), (1, 1), (2, 8), (2, 1), (3, 8), (3, 1), (4, 8), (4, 1), (5, 8), (5, 1), (6, 8), (6, 1), (7, 8), (7, 1), (8, 8), (8, 1)]\n",
    "A = list(set(A))\n",
    "print(len(A))\n",
    "pretty = {i:[] for i in range(9)}\n",
    "for tup in A:\n",
    "     pretty[tup[0]] += [tup[1]]\n",
    "for key in pretty:\n",
    "    print(f\"{{{key}}} x {{{pretty[key]}}}\")\n",
    "isWeak21SumFree(A, (9,1))"
   ]
  },
  {
   "cell_type": "code",
   "execution_count": null,
   "metadata": {},
   "outputs": [],
   "source": []
  }
 ],
 "metadata": {
  "kernelspec": {
   "display_name": "Python 3",
   "language": "python",
   "name": "python3"
  },
  "language_info": {
   "codemirror_mode": {
    "name": "ipython",
    "version": 3
   },
   "file_extension": ".py",
   "mimetype": "text/x-python",
   "name": "python",
   "nbconvert_exporter": "python",
   "pygments_lexer": "ipython3",
   "version": "3.7.4"
  }
 },
 "nbformat": 4,
 "nbformat_minor": 4
}
